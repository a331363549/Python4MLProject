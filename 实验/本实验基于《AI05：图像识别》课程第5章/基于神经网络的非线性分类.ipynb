{
 "cells": [
  {
   "cell_type": "code",
   "execution_count": 18,
   "metadata": {},
   "outputs": [],
   "source": [
    "import pandas as pd\n",
    "import numpy as np\n",
    "%matplotlib inline\n",
    "from matplotlib import pyplot as plt"
   ]
  },
  {
   "cell_type": "code",
   "execution_count": 42,
   "metadata": {},
   "outputs": [
    {
     "data": {
      "text/html": [
       "<div>\n",
       "<style scoped>\n",
       "    .dataframe tbody tr th:only-of-type {\n",
       "        vertical-align: middle;\n",
       "    }\n",
       "\n",
       "    .dataframe tbody tr th {\n",
       "        vertical-align: top;\n",
       "    }\n",
       "\n",
       "    .dataframe thead th {\n",
       "        text-align: right;\n",
       "    }\n",
       "</style>\n",
       "<table border=\"1\" class=\"dataframe\">\n",
       "  <thead>\n",
       "    <tr style=\"text-align: right;\">\n",
       "      <th></th>\n",
       "      <th>x1</th>\n",
       "      <th>x2</th>\n",
       "      <th>y</th>\n",
       "    </tr>\n",
       "  </thead>\n",
       "  <tbody>\n",
       "    <tr>\n",
       "      <th>0</th>\n",
       "      <td>0.548617</td>\n",
       "      <td>-0.351505</td>\n",
       "      <td>1</td>\n",
       "    </tr>\n",
       "    <tr>\n",
       "      <th>1</th>\n",
       "      <td>1.465024</td>\n",
       "      <td>-0.155913</td>\n",
       "      <td>1</td>\n",
       "    </tr>\n",
       "    <tr>\n",
       "      <th>2</th>\n",
       "      <td>0.887746</td>\n",
       "      <td>0.397648</td>\n",
       "      <td>0</td>\n",
       "    </tr>\n",
       "    <tr>\n",
       "      <th>3</th>\n",
       "      <td>-0.617127</td>\n",
       "      <td>0.926962</td>\n",
       "      <td>0</td>\n",
       "    </tr>\n",
       "    <tr>\n",
       "      <th>4</th>\n",
       "      <td>-0.058103</td>\n",
       "      <td>1.180591</td>\n",
       "      <td>0</td>\n",
       "    </tr>\n",
       "  </tbody>\n",
       "</table>\n",
       "</div>"
      ],
      "text/plain": [
       "         x1        x2  y\n",
       "0  0.548617 -0.351505  1\n",
       "1  1.465024 -0.155913  1\n",
       "2  0.887746  0.397648  0\n",
       "3 -0.617127  0.926962  0\n",
       "4 -0.058103  1.180591  0"
      ]
     },
     "execution_count": 42,
     "metadata": {},
     "output_type": "execute_result"
    }
   ],
   "source": [
    "train_data = pd.read_csv(r'MoonDataTrain.csv')\n",
    "test_data = pd.read_csv(r'MoonDataTest.csv')\n",
    "train_data.head()"
   ]
  },
  {
   "cell_type": "markdown",
   "metadata": {},
   "source": [
    "## 决策边界"
   ]
  },
  {
   "cell_type": "code",
   "execution_count": 20,
   "metadata": {},
   "outputs": [],
   "source": [
    "def plot_decision_bundary(pred_func):\n",
    "    # 设定最大值 最小值 附加边缘填充\n",
    "    x_min, x_max = train_data.x1.min() - 0.5, train_data.x1.max() - 0.5\n",
    "    y_min, y_max = train_data.x2.min() - 0.5, train_data.x2.max() - 0.5\n",
    "    h = 0.01\n",
    "    \n",
    "    xx, yy = np.meshgrid(np.arange(x_min,x_max,h),np.arange(y_min,y_max,h))\n",
    "    \n",
    "    # 用预测函数预测\n",
    "    Z = pred_func(np.c_[xx.ravel(),yy.ravel()])\n",
    "    Z = Z.reshape(xx.shape)\n",
    "    \n",
    "    # 画图\n",
    "    plt.contourf(xx,yy,Z,cmap=plt.cm.Spectral)\n",
    "    plt.scatter(test_data.x1,test_data.x2,c=test_data.y,cmap=plt.cm.Spectral)"
   ]
  },
  {
   "cell_type": "markdown",
   "metadata": {},
   "source": [
    "## 预测函数"
   ]
  },
  {
   "cell_type": "code",
   "execution_count": 25,
   "metadata": {},
   "outputs": [],
   "source": [
    "def predict(model,x):\n",
    "    W1,b1,W2,b2 = model['W1'],model['b1'],model['W2'],model['b2']\n",
    "    # 向前运算\n",
    "    z1 = x.dot(W1) + b1\n",
    "    a1 = np.tanh(z1)\n",
    "    z2 = a1.dot(W2) + b2\n",
    "    exp_scores = np.exp(z2)\n",
    "    # 计算概率输出最大概率对应的类别\n",
    "    probs = exp_scores / np.sum(exp_scores,axis=1,keepdims=True)\n",
    "    return np.argmax(probs,axis=1)"
   ]
  },
  {
   "cell_type": "markdown",
   "metadata": {},
   "source": [
    "## 损失函数定义"
   ]
  },
  {
   "cell_type": "code",
   "execution_count": 26,
   "metadata": {},
   "outputs": [],
   "source": [
    "def calculate_loss(model,X,y):\n",
    "    num_xamples = len(X)\n",
    "    W1,b1,W2,b2 = model['W1'],model['b1'],model['W2'],model['b2']\n",
    "    # 向前推进 前向运算\n",
    "    z1 = X.dot(W1) + b1\n",
    "    a1 = np.tanh(z1)\n",
    "    z2 = a1.dot(W2) + b2\n",
    "    exp_scores = np.exp(z2)\n",
    "    probs = exp_scores / np.sum(exp_scores,axis=1,keepdims=True)\n",
    "    # 计算损失\n",
    "    corect_logprobs = -np.log(probs[range(num_xamples),y])\n",
    "    data_loss = np.sum(corect_logprobs)\n",
    "    # 加上正则化项\n",
    "    data_loss += reg_lambda/2 * (np.sum(np.square(W1)) + np.sum(np.square(W2)))\n",
    "    return 1./num_xamples * data_loss"
   ]
  },
  {
   "cell_type": "markdown",
   "metadata": {},
   "source": [
    "## 构建训练函数"
   ]
  },
  {
   "cell_type": "code",
   "execution_count": 31,
   "metadata": {},
   "outputs": [],
   "source": [
    "def build_model(nn_hdim,numpasses=20000,print_loss=False):\n",
    "    '''\n",
    "    nn_hdim: 隐藏节点个数\n",
    "    num_passes: 梯度下降迭代次数\n",
    "    print_loss:  是否打印loss的值\n",
    "    '''\n",
    "    \n",
    "    # 随机初始化权重\n",
    "    np.random.seed(0)\n",
    "    W1 = np.random.randn(nn_input_dim,nn_hdim) / np.square(nn_input_dim)\n",
    "    b1 = np.zeros((1,nn_hdim))\n",
    "    W2 = np.random.randn(nn_hdim,nn_output_dim) /np.square(nn_hdim)\n",
    "    b2 = np.zeros((1,nn_output_dim))\n",
    "    \n",
    "    # 模型\n",
    "    model={}\n",
    "    X = np.array(train_data.iloc[:,:2])\n",
    "    y = train_data.y\n",
    "    num_examples = len(X)\n",
    "    # 开始梯度下降\n",
    "    for i in range(0,numpasses):\n",
    "        z1 = X.dot(W1) + b1\n",
    "        a1 = np.tanh(z1)\n",
    "        z2 = a1.dot(W2) + b2\n",
    "        exp_scores = np.exp(z2)\n",
    "        probs = exp_scores / np.sum(exp_scores,axis=1,keepdims=True)\n",
    "        \n",
    "        # 反向传播\n",
    "        delta3 = probs\n",
    "        delta3[range(num_examples),y] -= 1\n",
    "        dW2 = (a1.T).dot(delta3)\n",
    "        db2 = np.sum(delta3,axis=0,keepdims=True)\n",
    "        delta2 = delta3.dot(W2.T) * (1 - np.power(a1,2))\n",
    "        dW1 = np.dot(X.T,delta2)\n",
    "        db1 = np.sum(delta2,axis=0)\n",
    "        \n",
    "        # 加上正则化项\n",
    "        dW2 += reg_lambda * W2\n",
    "        dW1 += reg_lambda * W1\n",
    "        \n",
    "        # 梯度下降更新参数\n",
    "        W1 += -epsilon * dW1\n",
    "        b1 += -epsilon * db1\n",
    "        W2 += -epsilon * dW2\n",
    "        b2 += -epsilon * db2\n",
    "        \n",
    "        # 得到的模型实际上就是这些权重\n",
    "        model = {'W1': W1,'b1':b1,'W2':W2,'b2':b2}\n",
    "        \n",
    "        # 打印loss\n",
    "        if print_loss and i%1000==0:\n",
    "            print(\"Train Loss after iteration %i %f\"%(i,calculate_loss(model,np.array(train_data.iloc[:,:2]),train_data.y)))\n",
    "        if print_loss and i%5000==0:\n",
    "            print(\"--- Test Loss after iteration %i %f\"%(i,calculate_loss(model,np.array(test_data.iloc[:,:2]),test_data.y)))\n",
    "    print(\"-------> TRAIN STOP AT FINAL LOSS %f\"%(calculate_loss(model,np.array(test_data.iloc[:,:2]),test_data.y)))\n",
    "    return model"
   ]
  },
  {
   "cell_type": "markdown",
   "metadata": {},
   "source": [
    "## 开始训练"
   ]
  },
  {
   "cell_type": "code",
   "execution_count": 35,
   "metadata": {},
   "outputs": [
    {
     "name": "stdout",
     "output_type": "stream",
     "text": [
      "Train Loss after iteration 0 0.616612\n",
      "--- Test Loss after iteration 0 0.620036\n",
      "Train Loss after iteration 1000 0.074351\n",
      "Train Loss after iteration 2000 0.073538\n",
      "Train Loss after iteration 3000 0.073357\n",
      "Train Loss after iteration 4000 0.073740\n",
      "Train Loss after iteration 5000 0.073321\n",
      "--- Test Loss after iteration 5000 0.108738\n",
      "Train Loss after iteration 6000 0.073834\n",
      "Train Loss after iteration 7000 0.073349\n",
      "Train Loss after iteration 8000 0.074403\n",
      "Train Loss after iteration 9000 0.073368\n",
      "Train Loss after iteration 10000 0.073808\n",
      "--- Test Loss after iteration 10000 0.109573\n",
      "Train Loss after iteration 11000 0.073388\n",
      "Train Loss after iteration 12000 0.073242\n",
      "Train Loss after iteration 13000 0.073396\n",
      "Train Loss after iteration 14000 0.073255\n",
      "Train Loss after iteration 15000 0.073486\n",
      "--- Test Loss after iteration 15000 0.109889\n",
      "Train Loss after iteration 16000 0.073285\n",
      "Train Loss after iteration 17000 0.073542\n",
      "Train Loss after iteration 18000 0.073286\n",
      "Train Loss after iteration 19000 0.073607\n",
      "-------> TRAIN STOP AT FINAL LOSS 0.108595\n"
     ]
    },
    {
     "data": {
      "image/png": "[encoded data removed]",
      "text/plain": [
       "<Figure size 432x288 with 1 Axes>"
      ]
     },
     "metadata": {},
     "output_type": "display_data"
    }
   ],
   "source": [
    "# 输入的维度\n",
    "nn_input_dim = 2\n",
    "# 输出的维度\n",
    "nn_output_dim = 2\n",
    "\n",
    "# 梯度下降参数\n",
    "# 学习率\n",
    "epsilon = 0.001\n",
    "# 正则化参数\n",
    "reg_lambda = 0.0001\n",
    "\n",
    "# 建立隐层有3个节点的神经网络\n",
    "model = build_model(3,print_loss=True)\n",
    "\n",
    "# 画出决策/判定边界\n",
    "plot_decision_bundary(lambda x: predict(model,x))\n",
    "plt.title(\"Decision Boundary for hidden layer size 3\")\n",
    "plt.show()"
   ]
  },
  {
   "cell_type": "code",
   "execution_count": 38,
   "metadata": {},
   "outputs": [
    {
     "data": {
      "text/plain": [
       "array([[ 0.56743866, -0.36359142,  0.01143963],\n",
       "       [-0.04679596,  0.3831948 ,  0.36733969]])"
      ]
     },
     "execution_count": 38,
     "metadata": {},
     "output_type": "execute_result"
    }
   ],
   "source": [
    "W= np.random.randn(2,3) / np.square(2)\n",
    "W"
   ]
  },
  {
   "cell_type": "code",
   "execution_count": 39,
   "metadata": {},
   "outputs": [
    {
     "data": {
      "text/plain": [
       "array([[ 0.15494743,  0.37816252, -0.88778575],\n",
       "       [-1.98079647, -0.34791215,  0.15634897]])"
      ]
     },
     "execution_count": 39,
     "metadata": {},
     "output_type": "execute_result"
    }
   ],
   "source": [
    " np.random.randn(2,3)"
   ]
  },
  {
   "cell_type": "code",
   "execution_count": null,
   "metadata": {},
   "outputs": [],
   "source": []
  }
 ],
 "metadata": {
  "kernelspec": {
   "display_name": "Python 3",
   "language": "python",
   "name": "python3"
  },
  "language_info": {
   "codemirror_mode": {
    "name": "ipython",
    "version": 3
   },
   "file_extension": ".py",
   "mimetype": "text/x-python",
   "name": "python",
   "nbconvert_exporter": "python",
   "pygments_lexer": "ipython3",
   "version": "3.6.5"
  }
 },
 "nbformat": 4,
 "nbformat_minor": 2
}
