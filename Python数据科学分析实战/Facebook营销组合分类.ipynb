{
 "cells": [
  {
   "cell_type": "code",
   "execution_count": 2,
   "metadata": {},
   "outputs": [],
   "source": [
    "# 导入使用的库\n",
    "import numpy as np\n",
    "import pandas as pd\n",
    "import tensorflow as tf\n",
    "from sklearn.preprocessing import LabelEncoder\n",
    "from sklearn.preprocessing import OneHotEncoder\n",
    "from sklearn.model_selection import train_test_split\n"
   ]
  },
  {
   "cell_type": "markdown",
   "metadata": {},
   "source": [
    "定义load_data函数，用于加载数据集，并进行预处理，返回之后的结果"
   ]
  },
  {
   "cell_type": "code",
   "execution_count": 3,
   "metadata": {},
   "outputs": [],
   "source": [
    "def load_data(path):\n",
    "    \"\"\"载数据集，并进行预处理\n",
    "        \n",
    "    Paramters\n",
    "    ---\n",
    "    path：str\n",
    "        数据集的路径\n",
    "    \n",
    "    Retruens\n",
    "        (X,y): tuple\n",
    "        特征矩阵X与对应的标签y\n",
    "    ---\n",
    "    \"\"\"\n",
    "    # 加载数据集，并为没有标题的数据集添加标题行\n",
    "    data=pd.read_csv(path,header=None)\n",
    "    # 将加载的数据集\n",
    "    X,y = data.iloc[:,:-1],data.iloc[:,-1]\n",
    "    # 对特征矩阵进行编码\n",
    "    lb = LabelEncoder()\n",
    "    X = X.apply(lambda col: lb.fit_transform(col))\n",
    "    # 进行one-hot编码\n",
    "    ohe = OneHotEncoder()\n",
    "    X = pd.DataFrame(ohe.fit_transform(X).toarray())\n",
    "    # tensorflwo 不支持数值列 需要转换\n",
    "    X.columns = X.columns.map(lambda x:f\"c{x}\")\n",
    "    return X,y"
   ]
  },
  {
   "cell_type": "markdown",
   "metadata": {},
   "source": [
    "定义train_input_fn函数 构建训练集"
   ]
  },
  {
   "cell_type": "code",
   "execution_count": 4,
   "metadata": {},
   "outputs": [],
   "source": [
    "def train_input_fn(features,labels):\n",
    "    \"\"\"定义训练函数，用于训练使用\n",
    "    \n",
    "    Pamaraters:\n",
    "    ---\n",
    "    features: 类数组类型。 形状[本数量，特征数量]\n",
    "        用于训练的特征矩阵\n",
    "        \n",
    "    labels : 类数组类型。形状[样本数量]\n",
    "        每个样本对应的标签（分类）\n",
    "        \n",
    "    Returns:\n",
    "        dataset:tf.data.Dataset\n",
    "        数据集\n",
    "    ---\n",
    "    \"\"\"\n",
    "    dataset = tf.data.Dataset.from_tensor_slices((dict(features),labels))\n",
    "    dataset = dataset.shuffle(10000,seed=0).repeat(10).batch(50)\n",
    "    return dataset"
   ]
  },
  {
   "cell_type": "markdown",
   "metadata": {},
   "source": [
    "定义eval_input_fn评估函数，用于评估模型效果，或对新数据进行预测"
   ]
  },
  {
   "cell_type": "code",
   "execution_count": 6,
   "metadata": {},
   "outputs": [],
   "source": [
    "def eval_input_fn(features,labels=None):\n",
    "    \"\"\"定义评估函数，用于评估或预测\n",
    "    Parameters\n",
    "    ---\n",
    "      features: 类数组类型。 形状[本数量，特征数量]\n",
    "        用于训练的特征矩阵\n",
    "        \n",
    "    labels : 类数组类型。形状[样本数量]\n",
    "        每个样本对应的标签（分类）\n",
    "        \n",
    "    Returns:\n",
    "        dataset:tf.data.Dataset\n",
    "        数据集\n",
    "    ---\n",
    "    \"\"\"\n",
    "    # 将特征转换成字典类型\n",
    "    features = dict(features)\n",
    "    # 如果进行未知数据的预测，则没有标签\n",
    "    if labels is None:\n",
    "        inputs = features\n",
    "    else:\n",
    "        inputs = (features,labels)\n",
    "    # 创建数据集\n",
    "    dataset = tf.data.Dataset.from_tensor_slices(inputs)\n",
    "    # 每次去除100条记录\n",
    "    dataset = dataset.batch(100)\n",
    "    return dataset"
   ]
  },
  {
   "cell_type": "code",
   "execution_count": 9,
   "metadata": {
    "scrolled": false
   },
   "outputs": [
    {
     "name": "stdout",
     "output_type": "stream",
     "text": [
      "INFO:tensorflow:Using default config.\n",
      "WARNING:tensorflow:Using temporary folder as model directory: C:\\Users\\ADMINI~1\\AppData\\Local\\Temp\\tmp_drkknh8\n",
      "INFO:tensorflow:Using config: {'_model_dir': 'C:\\\\Users\\\\ADMINI~1\\\\AppData\\\\Local\\\\Temp\\\\tmp_drkknh8', '_tf_random_seed': None, '_save_summary_steps': 100, '_save_checkpoints_steps': None, '_save_checkpoints_secs': 600, '_session_config': allow_soft_placement: true\n",
      "graph_options {\n",
      "  rewrite_options {\n",
      "    meta_optimizer_iterations: ONE\n",
      "  }\n",
      "}\n",
      ", '_keep_checkpoint_max': 5, '_keep_checkpoint_every_n_hours': 10000, '_log_step_count_steps': 100, '_train_distribute': None, '_device_fn': None, '_protocol': None, '_eval_distribute': None, '_experimental_distribute': None, '_service': None, '_cluster_spec': <tensorflow.python.training.server_lib.ClusterSpec object at 0x00000234E98045C0>, '_task_type': 'worker', '_task_id': 0, '_global_id_in_cluster': 0, '_master': '', '_evaluation_master': '', '_is_chief': True, '_num_ps_replicas': 0, '_num_worker_replicas': 1}\n",
      "INFO:tensorflow:Calling model_fn.\n",
      "INFO:tensorflow:Done calling model_fn.\n",
      "INFO:tensorflow:Create CheckpointSaverHook.\n",
      "INFO:tensorflow:Graph was finalized.\n",
      "INFO:tensorflow:Running local_init_op.\n",
      "INFO:tensorflow:Done running local_init_op.\n",
      "INFO:tensorflow:Saving checkpoints for 0 into C:\\Users\\ADMINI~1\\AppData\\Local\\Temp\\tmp_drkknh8\\model.ckpt.\n",
      "INFO:tensorflow:loss = 116.86383, step = 1\n",
      "INFO:tensorflow:global_step/sec: 130.956\n",
      "INFO:tensorflow:loss = 46.61089, step = 101 (0.773 sec)\n",
      "INFO:tensorflow:global_step/sec: 178.25\n",
      "INFO:tensorflow:loss = 50.08537, step = 201 (0.554 sec)\n",
      "INFO:tensorflow:global_step/sec: 249.422\n",
      "INFO:tensorflow:loss = 46.376404, step = 301 (0.401 sec)\n",
      "INFO:tensorflow:global_step/sec: 145.77\n",
      "INFO:tensorflow:loss = 51.276516, step = 401 (0.687 sec)\n",
      "INFO:tensorflow:global_step/sec: 164.921\n",
      "INFO:tensorflow:loss = 49.32297, step = 501 (0.606 sec)\n",
      "INFO:tensorflow:global_step/sec: 203.729\n",
      "INFO:tensorflow:loss = 52.09626, step = 601 (0.490 sec)\n",
      "INFO:tensorflow:global_step/sec: 220.308\n",
      "INFO:tensorflow:loss = 46.344803, step = 701 (0.456 sec)\n",
      "INFO:tensorflow:global_step/sec: 111.635\n",
      "INFO:tensorflow:loss = 44.244953, step = 801 (0.899 sec)\n",
      "INFO:tensorflow:global_step/sec: 171.685\n",
      "INFO:tensorflow:loss = 50.34973, step = 901 (0.577 sec)\n",
      "INFO:tensorflow:global_step/sec: 223.811\n",
      "INFO:tensorflow:loss = 37.663643, step = 1001 (0.448 sec)\n",
      "INFO:tensorflow:global_step/sec: 222.419\n",
      "INFO:tensorflow:loss = 50.1183, step = 1101 (0.449 sec)\n",
      "INFO:tensorflow:global_step/sec: 111.621\n",
      "INFO:tensorflow:loss = 51.94294, step = 1201 (0.897 sec)\n",
      "INFO:tensorflow:global_step/sec: 177.45\n",
      "INFO:tensorflow:loss = 49.78533, step = 1301 (0.563 sec)\n",
      "INFO:tensorflow:global_step/sec: 211.899\n",
      "INFO:tensorflow:loss = 50.774773, step = 1401 (0.474 sec)\n",
      "INFO:tensorflow:global_step/sec: 152.146\n",
      "INFO:tensorflow:loss = 32.013477, step = 1501 (0.656 sec)\n",
      "INFO:tensorflow:global_step/sec: 180.212\n",
      "INFO:tensorflow:loss = 26.06574, step = 1601 (0.555 sec)\n",
      "INFO:tensorflow:global_step/sec: 183.64\n",
      "INFO:tensorflow:loss = 18.507355, step = 1701 (0.545 sec)\n",
      "INFO:tensorflow:global_step/sec: 230.501\n",
      "INFO:tensorflow:loss = 9.852599, step = 1801 (0.434 sec)\n",
      "INFO:tensorflow:global_step/sec: 143.365\n",
      "INFO:tensorflow:loss = 29.410843, step = 1901 (0.698 sec)\n",
      "INFO:tensorflow:global_step/sec: 162.772\n",
      "INFO:tensorflow:loss = 1.7991836, step = 2001 (0.615 sec)\n",
      "INFO:tensorflow:global_step/sec: 202.192\n",
      "INFO:tensorflow:loss = 4.4698534, step = 2101 (0.494 sec)\n",
      "INFO:tensorflow:global_step/sec: 242.812\n",
      "INFO:tensorflow:loss = 8.944694, step = 2201 (0.412 sec)\n",
      "INFO:tensorflow:global_step/sec: 139.441\n",
      "INFO:tensorflow:loss = 2.581772, step = 2301 (0.716 sec)\n",
      "INFO:tensorflow:global_step/sec: 177.171\n",
      "INFO:tensorflow:loss = 0.3162328, step = 2401 (0.565 sec)\n",
      "INFO:tensorflow:global_step/sec: 211.089\n",
      "INFO:tensorflow:loss = 1.5830328, step = 2501 (0.475 sec)\n",
      "INFO:tensorflow:global_step/sec: 205.22\n",
      "INFO:tensorflow:loss = 0.2538008, step = 2601 (0.485 sec)\n",
      "INFO:tensorflow:global_step/sec: 130.895\n",
      "INFO:tensorflow:loss = 0.24232233, step = 2701 (0.765 sec)\n",
      "INFO:tensorflow:global_step/sec: 170.648\n",
      "INFO:tensorflow:loss = 0.22521232, step = 2801 (0.590 sec)\n",
      "INFO:tensorflow:global_step/sec: 203.382\n",
      "INFO:tensorflow:loss = 0.16486418, step = 2901 (0.488 sec)\n",
      "INFO:tensorflow:global_step/sec: 215.857\n",
      "INFO:tensorflow:loss = 0.51721376, step = 3001 (0.463 sec)\n",
      "INFO:tensorflow:global_step/sec: 127.945\n",
      "INFO:tensorflow:loss = 0.26333714, step = 3101 (0.783 sec)\n",
      "INFO:tensorflow:global_step/sec: 160.684\n",
      "INFO:tensorflow:loss = 4.107112, step = 3201 (0.624 sec)\n",
      "INFO:tensorflow:global_step/sec: 213.879\n",
      "INFO:tensorflow:loss = 0.2567626, step = 3301 (0.467 sec)\n",
      "INFO:tensorflow:global_step/sec: 139.647\n",
      "INFO:tensorflow:loss = 0.21153182, step = 3401 (0.713 sec)\n",
      "INFO:tensorflow:global_step/sec: 162.084\n",
      "INFO:tensorflow:loss = 2.4313018, step = 3501 (0.618 sec)\n",
      "INFO:tensorflow:global_step/sec: 205.029\n",
      "INFO:tensorflow:loss = 8.140662, step = 3601 (0.488 sec)\n",
      "INFO:tensorflow:global_step/sec: 216.094\n",
      "INFO:tensorflow:loss = 0.88416535, step = 3701 (0.463 sec)\n",
      "INFO:tensorflow:Saving checkpoints for 3752 into C:\\Users\\ADMINI~1\\AppData\\Local\\Temp\\tmp_drkknh8\\model.ckpt.\n",
      "INFO:tensorflow:Loss for final step: 2.7830462.\n",
      "INFO:tensorflow:Calling model_fn.\n",
      "INFO:tensorflow:Done calling model_fn.\n",
      "INFO:tensorflow:Starting evaluation at 2018-12-17-11:36:20\n",
      "INFO:tensorflow:Graph was finalized.\n",
      "INFO:tensorflow:Restoring parameters from C:\\Users\\ADMINI~1\\AppData\\Local\\Temp\\tmp_drkknh8\\model.ckpt-3752\n",
      "INFO:tensorflow:Running local_init_op.\n",
      "INFO:tensorflow:Done running local_init_op.\n",
      "INFO:tensorflow:Finished evaluation at 2018-12-17-11:36:21\n",
      "INFO:tensorflow:Saving dict for global step 3752: accuracy = 0.99200386, average_loss = 0.04789417, global_step = 3752, loss = 4.7536864\n",
      "INFO:tensorflow:Saving 'checkpoint_path' summary for global step 3752: C:\\Users\\ADMINI~1\\AppData\\Local\\Temp\\tmp_drkknh8\\model.ckpt-3752\n"
     ]
    },
    {
     "data": {
      "text/plain": [
       "{'accuracy': 0.99200386,\n",
       " 'average_loss': 0.04789417,\n",
       " 'loss': 4.7536864,\n",
       " 'global_step': 3752}"
      ]
     },
     "execution_count": 9,
     "metadata": {},
     "output_type": "execute_result"
    }
   ],
   "source": [
    "X,y = load_data(r'data.csv')\n",
    "train_X,test_X,train_y,test_y = train_test_split(X,y,test_size=0.25,random_state=0)\n",
    "# 定义特诊列列表\n",
    "my_feature_columns = []\n",
    "\n",
    "for key in train_X.keys():\n",
    "    # 创建tensorflow特征列，并加入到特征列表当中\n",
    "    my_feature_columns.append(tf.feature_column.numeric_column(key=key))\n",
    "classifier = tf.estimator.DNNClassifier(feature_columns=my_feature_columns,hidden_units=[512]*2,n_classes=10,optimizer=\"SGD\")\n",
    "classifier.train(input_fn=lambda:train_input_fn(train_X,train_y))\n",
    "classifier.evaluate(input_fn=lambda:eval_input_fn(test_X,test_y))"
   ]
  },
  {
   "cell_type": "code",
   "execution_count": null,
   "metadata": {},
   "outputs": [],
   "source": []
  }
 ],
 "metadata": {
  "kernelspec": {
   "display_name": "Python 3",
   "language": "python",
   "name": "python3"
  },
  "language_info": {
   "codemirror_mode": {
    "name": "ipython",
    "version": 3
   },
   "file_extension": ".py",
   "mimetype": "text/x-python",
   "name": "python",
   "nbconvert_exporter": "python",
   "pygments_lexer": "ipython3",
   "version": "3.6.5"
  }
 },
 "nbformat": 4,
 "nbformat_minor": 2
}
