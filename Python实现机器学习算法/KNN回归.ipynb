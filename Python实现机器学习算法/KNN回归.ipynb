{
 "cells": [
  {
   "cell_type": "code",
   "execution_count": null,
   "metadata": {},
   "outputs": [],
   "source": [
    "import numpy as np \n",
    "import pandas as pd"
   ]
  },
  {
   "cell_type": "code",
   "execution_count": null,
   "metadata": {},
   "outputs": [],
   "source": []
  },
  {
   "cell_type": "code",
   "execution_count": null,
   "metadata": {},
   "outputs": [],
   "source": [
    "data = pd.read_csv(r'iris.csv')\n",
    "# 删除不需要的ID与Species列（特征），因为现在进行回归预测，类别信息没有用处\n",
    "data.drop([\"id\",\"Species\"],axis=1,inplace=True)\n",
    "# 删除重复的记录\n",
    "data.drop_duplicates(inplace=True)"
   ]
  },
  {
   "cell_type": "code",
   "execution_count": null,
   "metadata": {},
   "outputs": [],
   "source": []
  },
  {
   "cell_type": "code",
   "execution_count": 43,
   "metadata": {},
   "outputs": [],
   "source": [
    "class KNN:\n",
    "    \"\"\" \n",
    "    使用Python实现K近邻算法（回归预测）\n",
    "    该算法用语回归也测，根据前三个特征属性，寻找最近的K个邻居，然后再根据k个邻居的第四个特征属性，\n",
    "    去预测当前样本的第四个特征\n",
    "    \"\"\"\n",
    "    def __init__(self,k):\n",
    "        \"\"\"初始化\n",
    "        Parameters\n",
    "        -------\n",
    "        k : int\n",
    "            邻居的个数\n",
    "        \"\"\"\n",
    "        self.k = k\n",
    "        \n",
    "    def fit(self,X,y):\n",
    "        \"\"\"\n",
    "        训练方法\n",
    "        \n",
    "        Parameters\n",
    "        ----------\n",
    "        X: 特征矩阵 形状为[样本数量，特征数量]\n",
    "            待训练的样本特征（属性）\n",
    "        y: 目标标签，形状为[样本数量]\n",
    "            每个样本的目标值\n",
    "        \"\"\"\n",
    "        # 将X 和 y转换成np.array()形式 方便统一操作\n",
    "        self.X = np.asarray(X)\n",
    "        self.y = np.asarray(y)\n",
    "        \n",
    "    def predict(self,X):\n",
    "        \"\"\"\n",
    "        根据传递的样本，预测结果\n",
    "        \n",
    "        Parameters\n",
    "        ------\n",
    "        X : 待测试的样本特征  [样本数量，特征数量]\n",
    "        \n",
    "        Return\n",
    "        -----\n",
    "        result : 数组类型， 预测结果\n",
    "        \"\"\"\n",
    "        # 转换成数组类型\n",
    "        X = np.asarray(X)\n",
    "        # 保存预测结果\n",
    "        result = []\n",
    "        for x in X:\n",
    "            # 计算距离（计算训练集中每个X的距离）\n",
    "            dis = np.sqrt(np.sum((x - self.X) ** 2,axis=1))\n",
    "            # 返回数组排序后，每个元素在原数组中的索引（排序之前）\n",
    "            index = dis.argsort()\n",
    "            # 取前K个距离最近的索引\n",
    "            index = index[:self.k]\n",
    "            result.append(np.mean(self.y[index]))\n",
    "        return np.array(result)\n",
    "    \n",
    "    def predict2weight(self,X):\n",
    "        \"\"\"\n",
    "        根据传递的样本，预测结果(考虑权重)\n",
    "        \n",
    "        Parameters\n",
    "        ------\n",
    "        X : 待测试的样本特征  [样本数量，特征数量]\n",
    "        \n",
    "        Return\n",
    "        -----\n",
    "        result : 数组类型， 预测结果\n",
    "        \"\"\"\n",
    "        # 转换成数组类型\n",
    "        X = np.asarray(X)\n",
    "        # 保存预测结果\n",
    "        result = []\n",
    "        for x in X:\n",
    "            # 计算距离（计算训练集中每个X的距离）\n",
    "            dis = np.sqrt(np.sum((x - self.X) ** 2,axis=1))\n",
    "            # 返回数组排序后，每个元素在原数组中的索引（排序之前）\n",
    "            index = dis.argsort()\n",
    "            # 取前K个距离最近的索引\n",
    "            index = index[:self.k]\n",
    "            # 求所有邻居节点距离的倒数之和【避免除数为0，最后加一个很小的值】\n",
    "            s = np.sum(1/(dis[index] + 0.001))\n",
    "            # 使用每个节点距离的倒数，除以倒数之和，得到权重\n",
    "            weight = (1/(dis[index] + 0.001))/s\n",
    "            display(len(index))\n",
    "            display(s)\n",
    "            display(weight)\n",
    "            # 使用邻居节点的标签值，乘以对应的权重，然后相加，得到最终的预测结果\n",
    "            result.append( np.sum(self.y[index] * weight))\n",
    "           # result.append(np.mean(self.y[index]))\n",
    "        return np.array(result)\n",
    "        "
   ]
  },
  {
   "cell_type": "code",
   "execution_count": 44,
   "metadata": {},
   "outputs": [
    {
     "data": {
      "text/plain": [
       "3"
      ]
     },
     "metadata": {},
     "output_type": "display_data"
    },
    {
     "data": {
      "text/plain": [
       "17.21400458622891"
      ]
     },
     "metadata": {},
     "output_type": "display_data"
    },
    {
     "data": {
      "text/plain": [
       "array([0.40788992, 0.33347038, 0.2586397 ])"
      ]
     },
     "metadata": {},
     "output_type": "display_data"
    },
    {
     "data": {
      "text/plain": [
       "3"
      ]
     },
     "metadata": {},
     "output_type": "display_data"
    },
    {
     "data": {
      "text/plain": [
       "13.209985428402302"
      ]
     },
     "metadata": {},
     "output_type": "display_data"
    },
    {
     "data": {
      "text/plain": [
       "array([0.53152359, 0.26669809, 0.20177832])"
      ]
     },
     "metadata": {},
     "output_type": "display_data"
    },
    {
     "data": {
      "text/plain": [
       "3"
      ]
     },
     "metadata": {},
     "output_type": "display_data"
    },
    {
     "data": {
      "text/plain": [
       "15.925868881808753"
      ]
     },
     "metadata": {},
     "output_type": "display_data"
    },
    {
     "data": {
      "text/plain": [
       "array([0.44088137, 0.27955932, 0.27955932])"
      ]
     },
     "metadata": {},
     "output_type": "display_data"
    },
    {
     "data": {
      "text/plain": [
       "3"
      ]
     },
     "metadata": {},
     "output_type": "display_data"
    },
    {
     "data": {
      "text/plain": [
       "6.900580041048608"
      ]
     },
     "metadata": {},
     "output_type": "display_data"
    },
    {
     "data": {
      "text/plain": [
       "array([0.40081123, 0.31554266, 0.28364612])"
      ]
     },
     "metadata": {},
     "output_type": "display_data"
    },
    {
     "data": {
      "text/plain": [
       "3"
      ]
     },
     "metadata": {},
     "output_type": "display_data"
    },
    {
     "data": {
      "text/plain": [
       "17.214004586228864"
      ]
     },
     "metadata": {},
     "output_type": "display_data"
    },
    {
     "data": {
      "text/plain": [
       "array([0.40788992, 0.33347038, 0.2586397 ])"
      ]
     },
     "metadata": {},
     "output_type": "display_data"
    },
    {
     "data": {
      "text/plain": [
       "3"
      ]
     },
     "metadata": {},
     "output_type": "display_data"
    },
    {
     "data": {
      "text/plain": [
       "13.550546691629417"
      ]
     },
     "metadata": {},
     "output_type": "display_data"
    },
    {
     "data": {
      "text/plain": [
       "array([0.51816499, 0.25999526, 0.22183975])"
      ]
     },
     "metadata": {},
     "output_type": "display_data"
    },
    {
     "data": {
      "text/plain": [
       "3"
      ]
     },
     "metadata": {},
     "output_type": "display_data"
    },
    {
     "data": {
      "text/plain": [
       "5.703030978686751"
      ]
     },
     "metadata": {},
     "output_type": "display_data"
    },
    {
     "data": {
      "text/plain": [
       "array([0.34999073, 0.32500463, 0.32500463])"
      ]
     },
     "metadata": {},
     "output_type": "display_data"
    },
    {
     "data": {
      "text/plain": [
       "3"
      ]
     },
     "metadata": {},
     "output_type": "display_data"
    },
    {
     "data": {
      "text/plain": [
       "11.127612127166831"
      ]
     },
     "metadata": {},
     "output_type": "display_data"
    },
    {
     "data": {
      "text/plain": [
       "array([0.40010606, 0.31660682, 0.28328712])"
      ]
     },
     "metadata": {},
     "output_type": "display_data"
    },
    {
     "data": {
      "text/plain": [
       "3"
      ]
     },
     "metadata": {},
     "output_type": "display_data"
    },
    {
     "data": {
      "text/plain": [
       "6.7282909675832885"
      ]
     },
     "metadata": {},
     "output_type": "display_data"
    },
    {
     "data": {
      "text/plain": [
       "array([0.35959921, 0.34949144, 0.29090935])"
      ]
     },
     "metadata": {},
     "output_type": "display_data"
    },
    {
     "data": {
      "text/plain": [
       "3"
      ]
     },
     "metadata": {},
     "output_type": "display_data"
    },
    {
     "data": {
      "text/plain": [
       "12.97033400170448"
      ]
     },
     "metadata": {},
     "output_type": "display_data"
    },
    {
     "data": {
      "text/plain": [
       "array([0.34326217, 0.34326217, 0.31347566])"
      ]
     },
     "metadata": {},
     "output_type": "display_data"
    },
    {
     "data": {
      "text/plain": [
       "3"
      ]
     },
     "metadata": {},
     "output_type": "display_data"
    },
    {
     "data": {
      "text/plain": [
       "11.449692697582282"
      ]
     },
     "metadata": {},
     "output_type": "display_data"
    },
    {
     "data": {
      "text/plain": [
       "array([0.43452034, 0.29016142, 0.27531823])"
      ]
     },
     "metadata": {},
     "output_type": "display_data"
    },
    {
     "data": {
      "text/plain": [
       "3"
      ]
     },
     "metadata": {},
     "output_type": "display_data"
    },
    {
     "data": {
      "text/plain": [
       "17.882164341532153"
      ]
     },
     "metadata": {},
     "output_type": "display_data"
    },
    {
     "data": {
      "text/plain": [
       "array([0.55367963, 0.27821713, 0.16810325])"
      ]
     },
     "metadata": {},
     "output_type": "display_data"
    },
    {
     "data": {
      "text/plain": [
       "3"
      ]
     },
     "metadata": {},
     "output_type": "display_data"
    },
    {
     "data": {
      "text/plain": [
       "10.911221083325003"
      ]
     },
     "metadata": {},
     "output_type": "display_data"
    },
    {
     "data": {
      "text/plain": [
       "array([0.37263327, 0.32288576, 0.30448097])"
      ]
     },
     "metadata": {},
     "output_type": "display_data"
    },
    {
     "data": {
      "text/plain": [
       "3"
      ]
     },
     "metadata": {},
     "output_type": "display_data"
    },
    {
     "data": {
      "text/plain": [
       "14.64481070291886"
      ]
     },
     "metadata": {},
     "output_type": "display_data"
    },
    {
     "data": {
      "text/plain": [
       "array([0.39197234, 0.30401383, 0.30401383])"
      ]
     },
     "metadata": {},
     "output_type": "display_data"
    },
    {
     "data": {
      "text/plain": [
       "3"
      ]
     },
     "metadata": {},
     "output_type": "display_data"
    },
    {
     "data": {
      "text/plain": [
       "17.1191832849755"
      ]
     },
     "metadata": {},
     "output_type": "display_data"
    },
    {
     "data": {
      "text/plain": [
       "array([0.57835645, 0.23750455, 0.18413899])"
      ]
     },
     "metadata": {},
     "output_type": "display_data"
    },
    {
     "data": {
      "text/plain": [
       "3"
      ]
     },
     "metadata": {},
     "output_type": "display_data"
    },
    {
     "data": {
      "text/plain": [
       "12.415747831586978"
      ]
     },
     "metadata": {},
     "output_type": "display_data"
    },
    {
     "data": {
      "text/plain": [
       "array([0.46234514, 0.28375882, 0.25389604])"
      ]
     },
     "metadata": {},
     "output_type": "display_data"
    },
    {
     "data": {
      "text/plain": [
       "3"
      ]
     },
     "metadata": {},
     "output_type": "display_data"
    },
    {
     "data": {
      "text/plain": [
       "9.746092619992744"
      ]
     },
     "metadata": {},
     "output_type": "display_data"
    },
    {
     "data": {
      "text/plain": [
       "array([0.51047374, 0.24825212, 0.24127414])"
      ]
     },
     "metadata": {},
     "output_type": "display_data"
    },
    {
     "data": {
      "text/plain": [
       "3"
      ]
     },
     "metadata": {},
     "output_type": "display_data"
    },
    {
     "data": {
      "text/plain": [
       "23.94382786462917"
      ]
     },
     "metadata": {},
     "output_type": "display_data"
    },
    {
     "data": {
      "text/plain": [
       "array([0.41350907, 0.29324546, 0.29324546])"
      ]
     },
     "metadata": {},
     "output_type": "display_data"
    },
    {
     "data": {
      "text/plain": [
       "3"
      ]
     },
     "metadata": {},
     "output_type": "display_data"
    },
    {
     "data": {
      "text/plain": [
       "15.53952788501454"
      ]
     },
     "metadata": {},
     "output_type": "display_data"
    },
    {
     "data": {
      "text/plain": [
       "array([0.45184248, 0.28650967, 0.26164785])"
      ]
     },
     "metadata": {},
     "output_type": "display_data"
    },
    {
     "data": {
      "text/plain": [
       "3"
      ]
     },
     "metadata": {},
     "output_type": "display_data"
    },
    {
     "data": {
      "text/plain": [
       "15.91408876998949"
      ]
     },
     "metadata": {},
     "output_type": "display_data"
    },
    {
     "data": {
      "text/plain": [
       "array([0.44120772, 0.36070936, 0.19808292])"
      ]
     },
     "metadata": {},
     "output_type": "display_data"
    },
    {
     "data": {
      "text/plain": [
       "3"
      ]
     },
     "metadata": {},
     "output_type": "display_data"
    },
    {
     "data": {
      "text/plain": [
       "10.652926135343657"
      ]
     },
     "metadata": {},
     "output_type": "display_data"
    },
    {
     "data": {
      "text/plain": [
       "array([0.41793447, 0.31186353, 0.270202  ])"
      ]
     },
     "metadata": {},
     "output_type": "display_data"
    },
    {
     "data": {
      "text/plain": [
       "3"
      ]
     },
     "metadata": {},
     "output_type": "display_data"
    },
    {
     "data": {
      "text/plain": [
       "9.435434952060138"
      ]
     },
     "metadata": {},
     "output_type": "display_data"
    },
    {
     "data": {
      "text/plain": [
       "array([0.60838326, 0.20744383, 0.18417291])"
      ]
     },
     "metadata": {},
     "output_type": "display_data"
    },
    {
     "data": {
      "text/plain": [
       "3"
      ]
     },
     "metadata": {},
     "output_type": "display_data"
    },
    {
     "data": {
      "text/plain": [
       "10.394193003330736"
      ]
     },
     "metadata": {},
     "output_type": "display_data"
    },
    {
     "data": {
      "text/plain": [
       "array([0.3911688 , 0.31962646, 0.28920474])"
      ]
     },
     "metadata": {},
     "output_type": "display_data"
    },
    {
     "data": {
      "text/plain": [
       "3"
      ]
     },
     "metadata": {},
     "output_type": "display_data"
    },
    {
     "data": {
      "text/plain": [
       "22.662769685739285"
      ]
     },
     "metadata": {},
     "output_type": "display_data"
    },
    {
     "data": {
      "text/plain": [
       "array([0.4368835 , 0.30982175, 0.25329476])"
      ]
     },
     "metadata": {},
     "output_type": "display_data"
    },
    {
     "data": {
      "text/plain": [
       "3"
      ]
     },
     "metadata": {},
     "output_type": "display_data"
    },
    {
     "data": {
      "text/plain": [
       "1014.0428377656192"
      ]
     },
     "metadata": {},
     "output_type": "display_data"
    },
    {
     "data": {
      "text/plain": [
       "array([0.98615163, 0.00692418, 0.00692418])"
      ]
     },
     "metadata": {},
     "output_type": "display_data"
    },
    {
     "data": {
      "text/plain": [
       "3"
      ]
     },
     "metadata": {},
     "output_type": "display_data"
    },
    {
     "data": {
      "text/plain": [
       "18.10872176832453"
      ]
     },
     "metadata": {},
     "output_type": "display_data"
    },
    {
     "data": {
      "text/plain": [
       "array([0.38773686, 0.38773686, 0.22452628])"
      ]
     },
     "metadata": {},
     "output_type": "display_data"
    },
    {
     "data": {
      "text/plain": [
       "3"
      ]
     },
     "metadata": {},
     "output_type": "display_data"
    },
    {
     "data": {
      "text/plain": [
       "15.53952788501453"
      ]
     },
     "metadata": {},
     "output_type": "display_data"
    },
    {
     "data": {
      "text/plain": [
       "array([0.45184248, 0.28650967, 0.26164785])"
      ]
     },
     "metadata": {},
     "output_type": "display_data"
    },
    {
     "data": {
      "text/plain": [
       "3"
      ]
     },
     "metadata": {},
     "output_type": "display_data"
    },
    {
     "data": {
      "text/plain": [
       "5.234042360273112"
      ]
     },
     "metadata": {},
     "output_type": "display_data"
    },
    {
     "data": {
      "text/plain": [
       "array([0.52843094, 0.23668337, 0.23488568])"
      ]
     },
     "metadata": {},
     "output_type": "display_data"
    },
    {
     "data": {
      "text/plain": [
       "3"
      ]
     },
     "metadata": {},
     "output_type": "display_data"
    },
    {
     "data": {
      "text/plain": [
       "19.01796214372867"
      ]
     },
     "metadata": {},
     "output_type": "display_data"
    },
    {
     "data": {
      "text/plain": [
       "array([0.36919933, 0.36919933, 0.26160134])"
      ]
     },
     "metadata": {},
     "output_type": "display_data"
    },
    {
     "data": {
      "text/plain": [
       "array([0.2       , 2.06034623, 0.2       , 1.92517496, 1.27413603,\n",
       "       1.19618445, 1.23000185, 2.04006363, 1.12909093, 1.93134757,\n",
       "       2.02753182, 1.85536796, 1.81368336, 0.2       , 1.1368278 ,\n",
       "       2.23590685, 1.59999864, 0.28797364, 1.47134903, 1.25587923,\n",
       "       1.6919192 , 1.39627809, 0.27823376, 0.24368835, 0.2       ,\n",
       "       2.0714158 , 1.25481575, 2.14183025, 0.22616013])"
      ]
     },
     "metadata": {},
     "output_type": "display_data"
    },
    {
     "data": {
      "text/plain": [
       "array([0.2, 1.6, 0.2, 2.3, 1.3, 1.2, 1.3, 1.8, 1. , 2.3, 2.3, 1.5, 1.7,\n",
       "       0.2, 1. , 2.1, 2.3, 0.2, 1.3, 1.3, 1.8, 1.3, 0.2, 0.4, 0.1, 1.8,\n",
       "       1. , 2.2, 0.2])"
      ]
     },
     "metadata": {},
     "output_type": "display_data"
    }
   ],
   "source": [
    "t = data.sample(len(data),random_state=0)\n",
    "train_X = t.iloc[:120,:-1]\n",
    "train_y = t.iloc[:120,-1]\n",
    "test_X = t.iloc[120: ,:-1]\n",
    "test_y = t.iloc[120:,-1]\n",
    "knn = KNN(k=3)\n",
    "knn.fit(train_X,train_y)\n",
    "\n",
    "result = knn.predict2weight(test_X)\n",
    "display(result)\n",
    "display(test_y.values)"
   ]
  },
  {
   "cell_type": "code",
   "execution_count": 37,
   "metadata": {},
   "outputs": [],
   "source": [
    "import matplotlib as mpl\n",
    "import matplotlib.pyplot as plt\n",
    "mpl.rcParams[\"font.family\"] = \"SimHei\"\n",
    "mpl.rcParams[\"axes.unicode_minus\"] = False"
   ]
  },
  {
   "cell_type": "code",
   "execution_count": 38,
   "metadata": {},
   "outputs": [
    {
     "data": {
      "image/png": "[encoded data removed]",
      "text/plain": [
       "<Figure size 720x720 with 1 Axes>"
      ]
     },
     "metadata": {},
     "output_type": "display_data"
    }
   ],
   "source": [
    "plt.figure(figsize=(10,10))\n",
    "# 绘制预测值\n",
    "plt.plot(result,'ro-',label=\"预测值\")\n",
    "# 绘制真实值\n",
    "plt.plot(test_y.values,\"go--\", label=\"真实值\")\n",
    "plt.title(\"KNN连续之预测展示\")\n",
    "plt.xlabel(\"节点序号\")\n",
    "plt.ylabel(\"花瓣宽度\")\n",
    "plt.legend()\n",
    "plt.show()"
   ]
  },
  {
   "cell_type": "code",
   "execution_count": null,
   "metadata": {},
   "outputs": [],
   "source": []
  }
 ],
 "metadata": {
  "kernelspec": {
   "display_name": "Python 3",
   "language": "python",
   "name": "python3"
  },
  "language_info": {
   "codemirror_mode": {
    "name": "ipython",
    "version": 3
   },
   "file_extension": ".py",
   "mimetype": "text/x-python",
   "name": "python",
   "nbconvert_exporter": "python",
   "pygments_lexer": "ipython3",
   "version": "3.6.5"
  }
 },
 "nbformat": 4,
 "nbformat_minor": 2
}
