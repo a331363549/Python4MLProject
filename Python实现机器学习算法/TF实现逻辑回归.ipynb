{
 "cells": [
  {
   "cell_type": "code",
   "execution_count": 4,
   "metadata": {},
   "outputs": [
    {
     "name": "stdout",
     "output_type": "stream",
     "text": [
      "WARNING:tensorflow:From E:\\Anaconder3\\lib\\site-packages\\tensorflow\\python\\util\\tf_should_use.py:189: initialize_all_variables (from tensorflow.python.ops.variables) is deprecated and will be removed after 2017-03-02.\n",
      "Instructions for updating:\n",
      "Use `tf.global_variables_initializer` instead.\n",
      "train_cost is: 0.0023564808\n",
      "train_cost is: 0.002458809\n",
      "train_cost is: 0.0026072243\n",
      "train_cost is: 0.0026969328\n",
      "train_cost is: 0.0027107166\n",
      "train_cost is: 0.0026887944\n",
      "train_cost is: 0.0026549143\n",
      "train_cost is: 0.0026187634\n",
      "train_cost is: 0.0025839875\n",
      "train_cost is: 0.002551838\n",
      "train_cost is: 0.0025226208\n",
      "train_cost is: 0.0024962695\n",
      "train_cost is: 0.0024725855\n",
      "train_cost is: 0.002451332\n",
      "train_cost is: 0.0024322746\n",
      "train_cost is: 0.0024151963\n",
      "train_cost is: 0.0023999016\n",
      "train_cost is: 0.002386216\n",
      "train_cost is: 0.0023739836\n",
      "train_cost is: 0.002363065\n",
      "train_cost is: 0.0023533334\n",
      "train_cost is: 0.002344675\n",
      "train_cost is: 0.0023369854\n",
      "train_cost is: 0.0023301686\n",
      "train_cost is: 0.002324137\n",
      "train_cost is: 0.0023188088\n",
      "train_cost is: 0.0023141108\n",
      "train_cost is: 0.0023099736\n",
      "train_cost is: 0.0023063356\n",
      "train_cost is: 0.0023031407\n",
      "train_cost is: 0.0023003381\n",
      "train_cost is: 0.0022978813\n",
      "train_cost is: 0.0022957297\n",
      "train_cost is: 0.002293847\n",
      "train_cost is: 0.0022922002\n",
      "train_cost is: 0.0022907606\n",
      "train_cost is: 0.0022895026\n",
      "train_cost is: 0.0022884042\n",
      "train_cost is: 0.002287445\n"
     ]
    },
    {
     "data": {
      "image/png": "[encoded data removed]",
      "text/plain": [
       "<Figure size 432x288 with 1 Axes>"
      ]
     },
     "metadata": {},
     "output_type": "display_data"
    }
   ],
   "source": [
    "# -*- coding:utf-8 -*-\n",
    "#功能： 使用tensorflow实现一个简单的逻辑回归\n",
    "import tensorflow as tf\n",
    "import numpy as np\n",
    "import matplotlib.pyplot as plt\n",
    " \n",
    "#创建占位符\n",
    "X=tf.placeholder(tf.float32)\n",
    "Y=tf.placeholder(tf.float32)\n",
    " \n",
    "#创建变量\n",
    "#tf.random_normal([1])返回一个符合正太分布的随机数\n",
    "w=tf.Variable(tf.random_normal([1],name='weight'))\n",
    "b=tf.Variable(tf.random_normal([1],name='bias'))\n",
    " \n",
    "y_predict=tf.sigmoid(tf.add(tf.multiply(X,w),b))\n",
    "num_samples=400\n",
    "cost=tf.reduce_sum(tf.pow(y_predict-Y,2.0))/num_samples\n",
    " \n",
    "#学习率\n",
    "lr=0.01\n",
    "optimizer=tf.train.AdamOptimizer().minimize(cost)\n",
    " \n",
    "#创建session 并初始化所有变量\n",
    "num_epoch=500\n",
    "cost_accum=[]\n",
    "cost_prev=0\n",
    "#np.linspace（）创建agiel等差数组，元素个素为num_samples\n",
    "xs=np.linspace(-5,5,num_samples)\n",
    "ys=np.sin(xs)+np.random.normal(0,0.01,num_samples)\n",
    " \n",
    "with tf.Session() as sess:\n",
    "  #初始化所有变量\n",
    "  sess.run(tf.initialize_all_variables())\n",
    "  #开始训练\n",
    "  for epoch in range(num_epoch):\n",
    "    for x,y in zip(xs,ys):\n",
    "      sess.run(optimizer,feed_dict={X:x,Y:y})\n",
    "    train_cost=sess.run(cost,feed_dict={X:x,Y:y})\n",
    "    cost_accum.append(train_cost)\n",
    "    print (\"train_cost is:\",str(train_cost))\n",
    " \n",
    "    #当误差小于10-6时 终止训练\n",
    "    if np.abs(cost_prev-train_cost)<1e-6:\n",
    "      break\n",
    "    #保存最终的误差\n",
    "    cost_prev=train_cost\n",
    "#画图 画出每一轮训练所有样本之后的误差\n",
    "plt.plot(range(len(cost_accum)),cost_accum,'r')\n",
    "plt.title('Logic Regression Cost Curve')\n",
    "plt.xlabel('epoch')\n",
    "plt.ylabel('cost')\n",
    "plt.show()"
   ]
  },
  {
   "cell_type": "code",
   "execution_count": null,
   "metadata": {},
   "outputs": [],
   "source": []
  }
 ],
 "metadata": {
  "kernelspec": {
   "display_name": "Python 3",
   "language": "python",
   "name": "python3"
  },
  "language_info": {
   "codemirror_mode": {
    "name": "ipython",
    "version": 3
   },
   "file_extension": ".py",
   "mimetype": "text/x-python",
   "name": "python",
   "nbconvert_exporter": "python",
   "pygments_lexer": "ipython3",
   "version": "3.6.5"
  }
 },
 "nbformat": 4,
 "nbformat_minor": 2
}
