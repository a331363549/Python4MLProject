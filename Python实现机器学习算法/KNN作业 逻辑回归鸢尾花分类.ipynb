{
 "cells": [
  {
   "cell_type": "code",
   "execution_count": 10,
   "metadata": {},
   "outputs": [],
   "source": [
    "import tensorflow as tf\n",
    "import pandas as pd\n",
    "import numpy as np\n",
    "import time\n",
    "from sklearn.datasets import load_iris\n",
    "from sklearn.model_selection import train_test_split\n",
    "import matplotlib.pyplot as plt"
   ]
  },
  {
   "cell_type": "code",
   "execution_count": 12,
   "metadata": {},
   "outputs": [
    {
     "name": "stdout",
     "output_type": "stream",
     "text": [
      "[0 0 0 0 0 0 0 0 0 0 0 0 0 0 0 0 0 0 0 0 0 0 0 0 0 0 0 0 0 0 0 0 0 0 0 0 0\n",
      " 0 0 0 0 0 0 0 0 0 0 0 0 0 1 1 1 1 1 1 1 1 1 1 1 1 1 1 1 1 1 1 1 1 1 1 1 1\n",
      " 1 1 1 1 1 1 1 1 1 1 1 1 1 1 1 1 1 1 1 1 1 1 1 1 1 1 2 2 2 2 2 2 2 2 2 2 2\n",
      " 2 2 2 2 2 2 2 2 2 2 2 2 2 2 2 2 2 2 2 2 2 2 2 2 2 2 2 2 2 2 2 2 2 2 2 2 2\n",
      " 2]\n"
     ]
    }
   ],
   "source": [
    "iris = load_iris()\n",
    "iris_X, iris_y = iris.data[:-1, :], iris.target[:-1]\n",
    "print(iris_y)\n",
    "iris_y = pd.get_dummies(iris_y).values\n",
    "trainX, testX, trainY, testY = train_test_split(iris_X, iris_y, test_size=0.33, random_state=42)\n",
    "# print(trainX.shape)\n",
    "# print(testX.shape)\n",
    "# print(trainY.shape)\n",
    "# print(testY.shape)"
   ]
  },
  {
   "cell_type": "code",
   "execution_count": null,
   "metadata": {},
   "outputs": [],
   "source": []
  },
  {
   "cell_type": "code",
   "execution_count": null,
   "metadata": {},
   "outputs": [],
   "source": []
  },
  {
   "cell_type": "code",
   "execution_count": null,
   "metadata": {},
   "outputs": [],
   "source": []
  },
  {
   "cell_type": "code",
   "execution_count": null,
   "metadata": {},
   "outputs": [],
   "source": []
  },
  {
   "cell_type": "code",
   "execution_count": 3,
   "metadata": {},
   "outputs": [],
   "source": [
    "# 特征shape\n",
    "numFeatures = trainX.shape[1]\n",
    "# 标签shape\n",
    "numLabels = trainY.shape[1]\n",
    "# 占位符\n",
    "X = tf.placeholder(tf.float32, [None, numFeatures])\n",
    "y_ = tf.placeholder(tf.float32, [None, numLabels])\n",
    "# W b\n",
    "W = tf.Variable(tf.zeros([4, 3]))\n",
    "b = tf.Variable(tf.zeros([3]))"
   ]
  },
  {
   "cell_type": "code",
   "execution_count": 4,
   "metadata": {},
   "outputs": [],
   "source": [
    "# 随机抽取标准偏差为0.01的正态分布\n",
    "weights = tf.Variable(tf.random_normal([numFeatures, numLabels], mean=0.0, stddev=0.01, name=\"weights\"))\n",
    "bias = tf.Variable(tf.random_normal([1, numLabels], mean=0, stddev=0.01, name=\"bias\"))\n",
    "\n",
    "# Logistic回归方程三要素\n",
    "apply_weights_OP = tf.matmul(X, weights, name=\"apply_weights\")\n",
    "add_bias_OP = tf.add(apply_weights_OP, bias, name=\"add_bias\")\n",
    "activation_OP = tf.nn.sigmoid(add_bias_OP, name=\"activation\")\n",
    "\n",
    "# Epoch 训练次数和学习率\n",
    "numEpochs = 700\n",
    "# learninng_rate\n",
    "learningRate = tf.train.exponential_decay(learning_rate=0.0008, global_step=1, decay_steps=trainX.shape[0], decay_rate=0.95,\n",
    "                                          staircase=True)\n",
    "# 损失函数\n",
    "cost_OP = tf.nn.l2_loss(activation_OP - y_, name=\"squared_error_cost\")\n",
    "# 定义渐变下降\n",
    "training_OP = tf.train.GradientDescentOptimizer(learningRate).minimize(cost_OP)"
   ]
  },
  {
   "cell_type": "code",
   "execution_count": 5,
   "metadata": {},
   "outputs": [],
   "source": [
    "# 创建会话，初始化变量\n",
    "sess = tf.Session()\n",
    "init = tf.global_variables_initializer()\n",
    "sess.run(init)\n",
    "\n",
    "# 设置变量追踪训练过程\n",
    "# tf.argmax(activation_OP, 1)  以最大概率返回标签\n",
    "#  tf.argmax(y_, 1) 正确的标签\n",
    "correct_predictions_OP = tf.equal(tf.argmax(activation_OP, 1), tf.argmax(y_, 1))\n",
    "# 如果每个错误的预测为0且每个真是预测为1，则平均值会返回我们的准确性\n",
    "accuracy_OP = tf.reduce_mean(tf.cast(correct_predictions_OP, \"float\"))\n",
    "# 汇总op的回归输出\n",
    "activation_summary_OP = tf.summary.histogram(\"output\", activation_OP)\n",
    "# 汇总的准确度\n",
    "accuracy_summary_OP = tf.summary.scalar(\"accuracy\", accuracy_OP)\n",
    "# 汇总OP的成本\n",
    "cost_summary_OP = tf.summary.scalar(\"cost\", cost_OP)\n",
    "# 汇总检查每次迭代后变量W b是如何更新\n",
    "weightSummary = tf.summary.histogram('weights', weights.eval(session=sess))\n",
    "biasSummary = tf.summary.histogram('biases', bias.eval(session=sess))\n",
    "# 合并所有的汇总\n",
    "merged = tf.summary.merge([activation_summary_OP, accuracy_summary_OP, cost_summary_OP, weightSummary, biasSummary])\n",
    "# 汇总writer\n",
    "writer = tf.summary.FileWriter(\"summary_logs\", sess.graph)"
   ]
  },
  {
   "cell_type": "code",
   "execution_count": 6,
   "metadata": {},
   "outputs": [
    {
     "name": "stdout",
     "output_type": "stream",
     "text": [
      "step 0, training accuracy 0.333333, cost 34.1514, change in cost 34.1514\n",
      "step 100, training accuracy 0.656566, cost 20.6417, change in cost 13.5097\n",
      "step 200, training accuracy 0.717172, cost 18.0585, change in cost 2.58321\n",
      "step 300, training accuracy 0.79798, cost 16.9074, change in cost 1.15103\n",
      "step 400, training accuracy 0.848485, cost 16.1822, change in cost 0.725199\n",
      "step 500, training accuracy 0.878788, cost 15.6485, change in cost 0.53375\n",
      "step 600, training accuracy 0.909091, cost 15.2238, change in cost 0.424707\n",
      "final accuracy on test set : 0.9 \n"
     ]
    }
   ],
   "source": [
    "# trianing\n",
    "cost = 0\n",
    "diff = 1\n",
    "epoch_values = []\n",
    "accuracy_values = []\n",
    "cost_values = []\n",
    "# 训练epochs\n",
    "for i in range(numEpochs):\n",
    "    if i > 1 and diff < 0.0001:\n",
    "        print(\"change in cost %g; convergence.\" % diff)\n",
    "        break\n",
    "    else:\n",
    "        step = sess.run(training_OP, feed_dict={X: trainX, y_: trainY})\n",
    "        if i % 100 == 0:\n",
    "            # 将epoch添加到epoch_values\n",
    "            epoch_values.append(i)\n",
    "            # 基于测试集数据生成准确度\n",
    "            train_accuracy, newCost = sess.run([accuracy_OP, cost_OP], feed_dict={X: trainX, y_: trainY})\n",
    "            # 为实时图形变量添加准确性\n",
    "            accuracy_values.append(train_accuracy)\n",
    "            # 为实时图形变量添加成本\n",
    "            cost_values.append(newCost)\n",
    "            # 对变量值重新分配值\n",
    "            diff = abs(newCost - cost)\n",
    "            cost = newCost\n",
    "            # 生成输出语句\n",
    "            print(\"step %d, training accuracy %g, cost %g, change in cost %g\" % (i, train_accuracy, newCost, diff))\n",
    "\n",
    "# 预测\n",
    "print(\"final accuracy on test set : %s \" % str(sess.run(accuracy_OP, feed_dict={X: testX, y_: testY})))\n"
   ]
  },
  {
   "cell_type": "code",
   "execution_count": null,
   "metadata": {},
   "outputs": [],
   "source": []
  }
 ],
 "metadata": {
  "kernelspec": {
   "display_name": "Python 3",
   "language": "python",
   "name": "python3"
  },
  "language_info": {
   "codemirror_mode": {
    "name": "ipython",
    "version": 3
   },
   "file_extension": ".py",
   "mimetype": "text/x-python",
   "name": "python",
   "nbconvert_exporter": "python",
   "pygments_lexer": "ipython3",
   "version": "3.6.5"
  }
 },
 "nbformat": 4,
 "nbformat_minor": 2
}
