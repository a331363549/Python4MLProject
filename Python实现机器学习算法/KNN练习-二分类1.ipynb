{
 "cells": [
  {
   "cell_type": "code",
   "execution_count": 2,
   "metadata": {},
   "outputs": [
    {
     "name": "stderr",
     "output_type": "stream",
     "text": [
      "C:\\ProgramData\\Anaconda3\\lib\\site-packages\\h5py\\__init__.py:36: FutureWarning: Conversion of the second argument of issubdtype from `float` to `np.floating` is deprecated. In future, it will be treated as `np.float64 == np.dtype(float).type`.\n",
      "  from ._conv import register_converters as _register_converters\n"
     ]
    }
   ],
   "source": [
    "import numpy as np\n",
    "import pandas as pd\n",
    "import tensorflow as tf"
   ]
  },
  {
   "cell_type": "code",
   "execution_count": null,
   "metadata": {},
   "outputs": [],
   "source": []
  },
  {
   "cell_type": "code",
   "execution_count": 3,
   "metadata": {
    "scrolled": true
   },
   "outputs": [
    {
     "data": {
      "text/plain": [
       "pandas.core.frame.DataFrame"
      ]
     },
     "execution_count": 3,
     "metadata": {},
     "output_type": "execute_result"
    }
   ],
   "source": [
    "data = pd.read_csv(r'cancer.csv')\n",
    "data.drop_duplicates(inplace=True)"
   ]
  },
  {
   "cell_type": "code",
   "execution_count": 4,
   "metadata": {},
   "outputs": [],
   "source": [
    "# 良性恶性肿瘤类别获取区分\n",
    "t0 = data[data[\"type\"]==0]\n",
    "t1 = data[data[\"type\"]==1]\n",
    "\n",
    "# # 类别数据进行随机打乱  random_state可使随机重现\n",
    "# t0 = t0.sample(len(t0),random_state=0)\n",
    "# t1 = t1.sample(len(t1),random_state=0)\n",
    "\n",
    "# 测试集与训练集长度\n",
    "train_len0 = int(len(t0) * 0.8 )\n",
    "test_len0 = len(t0) - train_len0\n",
    "train_len1 = int(len(t1) * 0.8 )\n",
    "test_len1 = len(t1) - train_len1\n",
    "\n",
    "#构造训练集与测试集\n",
    "train_X = pd.concat([t0.iloc[:train_len0,:-1],t1.iloc[:train_len1,:-1]],axis=0)\n",
    "train_y = pd.concat([t0.iloc[:train_len0,-1],t1.iloc[:train_len1,-1]],axis=0)\n",
    "test_X = pd.concat([t0.iloc[test_len0:,:-1],t1.iloc[:test_len1,:-1]],axis=0)\n",
    "test_y = pd.concat([t0.iloc[test_len0:,-1],t1.iloc[:test_len1,-1]],axis=0)\n",
    "\n",
    "# 随机打乱训练集与测试集的顺序\n",
    "train_X = train_X.sample(len(train_X),random_state=0)\n",
    "train_y = train_y.sample(len(train_y),random_state=0)\n",
    "test_X = test_X.sample(len(test_X),random_state=0)\n",
    "test_y = test_y.sample(len(test_y),random_state=0)\n",
    "train_X = np.asarray(train_X)\n",
    "train_y = np.asarray(train_y)\n",
    "test_X = np.asarray(test_X)\n",
    "test_y = np.asarray(test_y)"
   ]
  },
  {
   "cell_type": "code",
   "execution_count": 5,
   "metadata": {},
   "outputs": [],
   "source": [
    "from sklearn.model_selection import train_test_split\n",
    "import tensorflow as tf\n",
    "from sklearn.datasets import load_breast_cancer\n",
    "import numpy as np\n",
    "from sklearn.preprocessing import MinMaxScaler "
   ]
  },
  {
   "cell_type": "code",
   "execution_count": 6,
   "metadata": {},
   "outputs": [],
   "source": [
    "#对数据集进行处理\n",
    "feature=train_X\n",
    "label=train_y.reshape([-1,1]) \n",
    "#将训练数据集中连续形的值标准化到(0,1)之间\n",
    "minmxx=MinMaxScaler([0,1]) \n",
    "minmxx.fit(feature) \n",
    "feature=minmxx.transform(feature)\n",
    "#将测试数据集中连续值标准化到(0,1)之间\n",
    "minmxx.fit(test_X)\n",
    "test_X=minmxx.transform(test_X)\n"
   ]
  },
  {
   "cell_type": "code",
   "execution_count": 43,
   "metadata": {},
   "outputs": [
    {
     "name": "stdout",
     "output_type": "stream",
     "text": [
      "[0.7185947]\n",
      "[0.7001706]\n",
      "[0.67923254]\n",
      "[0.6632279]\n",
      "[0.6524601]\n",
      "[0.6415919]\n",
      "[0.6298539]\n",
      "[0.61859363]\n",
      "[0.60810006]\n",
      "[0.5985702]\n",
      "[0.59022087]\n",
      "[0.5829717]\n",
      "[0.57668394]\n",
      "[0.57119846]\n",
      "[0.56637883]\n",
      "[0.56210977]\n",
      "[0.5582987]\n",
      "[0.55487096]\n",
      "[0.5517671]\n",
      "[0.54893917]\n",
      "             precision    recall  f1-score   support\n",
      "\n",
      "          0       0.95      0.93      0.94       169\n",
      "          1       0.84      0.89      0.86        72\n",
      "\n",
      "avg / total       0.92      0.92      0.92       241\n",
      "\n"
     ]
    }
   ],
   "source": [
    "#权重初始化\n",
    "w=tf.Variable(tf.random_normal([30,1])) \n",
    "b=tf.Variable(tf.zeros([1,1])) \n",
    "x = tf.placeholder(tf.float32,[None,30])\n",
    "y = tf.placeholder(tf.float32,[None,1])\n",
    "ye=tf.matmul(x,w)+b \n",
    "pre=tf.sigmoid(ye) \n",
    "#设置损失函数跟优化方法\n",
    "loss=tf.reduce_mean(tf.nn.sigmoid_cross_entropy_with_logits(labels=y,logits=pre)) \n",
    "#可以修改学习率，这里设置的是0.01\n",
    "train=tf.train.AdamOptimizer(0.01).minimize(loss) \n",
    "init=tf.global_variables_initializer() \n",
    "sess=tf.Session() \n",
    "sess.run(init) \n",
    "  #设置叠迭次数\n",
    "for step in range(200):     \n",
    "    sess.run(train,feed_dict={x:feature,y:label})     \n",
    "    if step%10==0:         \n",
    "        print(sess.run([loss],feed_dict={x:feature,y:label}))\n",
    "#用模型对测试数据进行测试\n",
    "pred=sess.run(pre,feed_dict={x:test_X}) \n",
    "\n",
    "from sklearn import metrics \n",
    "#输出测试相关的结果\n",
    "# print(metrics.classification_report(test_y.reshape([-1,1]),pred.round()))\n",
    "print(metrics.classification_report(test_y,pred.round()))"
   ]
  },
  {
   "cell_type": "code",
   "execution_count": 37,
   "metadata": {},
   "outputs": [
    {
     "data": {
      "image/png": "[encoded data removed]",
      "text/plain": [
       "<Figure size 432x288 with 1 Axes>"
      ]
     },
     "metadata": {},
     "output_type": "display_data"
    }
   ],
   "source": [
    "from sklearn.metrics import roc_curve\n",
    "fprs,tprs,thresholds = roc_curve(test_y,pred)\n",
    "import matplotlib.pyplot as plt\n",
    "plt.plot(fprs,tprs)\n",
    "plt.show()"
   ]
  },
  {
   "cell_type": "code",
   "execution_count": 32,
   "metadata": {},
   "outputs": [
    {
     "data": {
      "text/plain": [
       "array([0.37885243], dtype=float32)"
      ]
     },
     "execution_count": 32,
     "metadata": {},
     "output_type": "execute_result"
    }
   ],
   "source": [
    "pred[0]"
   ]
  }
 ],
 "metadata": {
  "kernelspec": {
   "display_name": "Python 3",
   "language": "python",
   "name": "python3"
  },
  "language_info": {
   "codemirror_mode": {
    "name": "ipython",
    "version": 3
   },
   "file_extension": ".py",
   "mimetype": "text/x-python",
   "name": "python",
   "nbconvert_exporter": "python",
   "pygments_lexer": "ipython3",
   "version": "3.6.5"
  }
 },
 "nbformat": 4,
 "nbformat_minor": 2
}
