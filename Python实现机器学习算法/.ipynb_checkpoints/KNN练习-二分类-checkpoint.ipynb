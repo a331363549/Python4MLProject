{
 "cells": [
  {
   "cell_type": "code",
   "execution_count": 117,
   "metadata": {},
   "outputs": [],
   "source": [
    "import numpy as np\n",
    "import pandas as pd\n",
    "import tensorflow as tf"
   ]
  },
  {
   "cell_type": "code",
   "execution_count": 118,
   "metadata": {
    "scrolled": true
   },
   "outputs": [],
   "source": [
    "data = pd.read_csv(r'cancer.csv')\n",
    "data.drop_duplicates(inplace=True)"
   ]
  },
  {
   "cell_type": "code",
   "execution_count": 119,
   "metadata": {},
   "outputs": [],
   "source": [
    "# 良性恶性肿瘤类别获取区分\n",
    "t0 = data[data[\"type\"]==0]\n",
    "t1 = data[data[\"type\"]==1]\n",
    "\n",
    "# # 类别数据进行随机打乱  random_state可使随机重现\n",
    "# t0 = t0.sample(len(t0),random_state=0)\n",
    "# t1 = t1.sample(len(t1),random_state=0)\n",
    "\n",
    "# 测试集与训练集长度\n",
    "train_len0 = int(len(t0) * 0.8 )\n",
    "test_len0 = len(t0) - train_len0\n",
    "train_len1 = int(len(t1) * 0.8 )\n",
    "test_len1 = len(t1) - train_len1\n",
    "\n",
    "#构造训练集与测试集\n",
    "train_X = pd.concat([t0.iloc[:train_len0,:-1],t1.iloc[:train_len1,:-1]],axis=0)\n",
    "train_y = pd.concat([t0.iloc[:train_len0,-1],t1.iloc[:train_len1,-1]],axis=0)\n",
    "test_X = pd.concat([t0.iloc[test_len0:,:-1],t1.iloc[:test_len1,:-1]],axis=0)\n",
    "test_y = pd.concat([t0.iloc[test_len0:,-1],t1.iloc[:test_len1,-1]],axis=0)\n",
    "\n",
    "# 随机打乱训练集与测试集的顺序\n",
    "train_X = train_X.sample(len(train_X),random_state=0)\n",
    "train_y = train_y.sample(len(train_y),random_state=0)\n",
    "test_X = test_X.sample(len(test_X),random_state=0)\n",
    "test_y = test_y.sample(len(test_y),random_state=0)\n",
    "train_X = np.asarray(train_X)\n",
    "train_y = np.asarray(train_y)\n",
    "test_X = np.asarray(test_X)\n",
    "test_y = np.asarray(test_y)"
   ]
  },
  {
   "cell_type": "code",
   "execution_count": 124,
   "metadata": {},
   "outputs": [],
   "source": [
    "# input\n",
    "X = tf.placeholder(tf.float32,[None,30])\n",
    "y_ = tf.placeholder(tf.float32,[None,1])\n",
    "# X = tf.placeholder(tf.float32)\n",
    "# y_ = tf.placeholder(tf.float32)\n",
    "\n",
    "# 参数\n",
    "W = tf.Variable(tf.zeros([30,1]))\n",
    "b = tf.Variable(tf.zeros([1]))\n",
    "\n",
    "# Label\n",
    "y = tf.nn.softmax(tf.matmul(X,W) + b)\n",
    "\n",
    "# 交叉熵函数\n",
    "cross_entropy = tf.nn.softmax_cross_entropy_with_logits(labels=y_,logits=y)\n",
    "# cross_entropy = -tf.reduce_mean(y_ * tf.log(tf.clip_by_value(y,1e-10,1.0))+(1-y_) * tf.log(tf.clip_by_value(1-y,1e-10,1.0)))\n",
    "train_step = tf.train.GradientDescentOptimizer(0.01).minimize(cross_entropy)\n",
    "\n",
    "correct_prediction = tf.equal(tf.argmax(y,1),tf.argmax(y_,1))\n",
    "accuracy = tf.reduce_mean(tf.cast(correct_prediction,tf.float32))"
   ]
  },
  {
   "cell_type": "code",
   "execution_count": 123,
   "metadata": {
    "scrolled": true
   },
   "outputs": [
    {
     "ename": "NameError",
     "evalue": "name 'yy' is not defined",
     "output_type": "error",
     "traceback": [
      "\u001b[1;31m---------------------------------------------------------------------------\u001b[0m",
      "\u001b[1;31mNameError\u001b[0m                                 Traceback (most recent call last)",
      "\u001b[1;32m<ipython-input-123-14f2e3f44d67>\u001b[0m in \u001b[0;36m<module>\u001b[1;34m()\u001b[0m\n\u001b[0;32m     10\u001b[0m \u001b[1;32mfor\u001b[0m \u001b[0mvalue\u001b[0m\u001b[1;33m,\u001b[0m\u001b[0mlabel\u001b[0m \u001b[1;32min\u001b[0m \u001b[0mzip\u001b[0m\u001b[1;33m(\u001b[0m\u001b[0mtest_X\u001b[0m\u001b[1;33m,\u001b[0m\u001b[0mtest_y\u001b[0m\u001b[1;33m)\u001b[0m\u001b[1;33m:\u001b[0m\u001b[1;33m\u001b[0m\u001b[0m\n\u001b[0;32m     11\u001b[0m     \u001b[0ma\u001b[0m \u001b[1;33m=\u001b[0m \u001b[0mnp\u001b[0m\u001b[1;33m.\u001b[0m\u001b[0marray\u001b[0m\u001b[1;33m(\u001b[0m\u001b[0mvalue\u001b[0m\u001b[1;33m)\u001b[0m\u001b[1;33m.\u001b[0m\u001b[0mreshape\u001b[0m\u001b[1;33m(\u001b[0m\u001b[1;36m1\u001b[0m\u001b[1;33m,\u001b[0m\u001b[1;36m30\u001b[0m\u001b[1;33m)\u001b[0m\u001b[1;33m\u001b[0m\u001b[0m\n\u001b[1;32m---> 12\u001b[1;33m     \u001b[0myy\u001b[0m \u001b[1;33m=\u001b[0m \u001b[0mtf\u001b[0m\u001b[1;33m.\u001b[0m\u001b[0mnn\u001b[0m\u001b[1;33m.\u001b[0m\u001b[0msoftmax\u001b[0m\u001b[1;33m(\u001b[0m\u001b[0myy\u001b[0m\u001b[1;33m)\u001b[0m\u001b[1;33m\u001b[0m\u001b[0m\n\u001b[0m\u001b[0;32m     13\u001b[0m     \u001b[0mresult\u001b[0m \u001b[1;33m=\u001b[0m \u001b[0msess\u001b[0m\u001b[1;33m.\u001b[0m\u001b[0mrun\u001b[0m\u001b[1;33m(\u001b[0m\u001b[0myy\u001b[0m\u001b[1;33m,\u001b[0m\u001b[0mfeed_dict\u001b[0m\u001b[1;33m=\u001b[0m\u001b[1;33m{\u001b[0m\u001b[0mX\u001b[0m\u001b[1;33m:\u001b[0m\u001b[0ma\u001b[0m\u001b[1;33m}\u001b[0m\u001b[1;33m)\u001b[0m\u001b[1;33m\u001b[0m\u001b[0m\n\u001b[0;32m     14\u001b[0m     \u001b[0mprint\u001b[0m\u001b[1;33m(\u001b[0m\u001b[1;34m\"预测结果为：%s  真实结果为%s\"\u001b[0m\u001b[1;33m%\u001b[0m\u001b[1;33m(\u001b[0m\u001b[0mresult\u001b[0m\u001b[1;33m,\u001b[0m\u001b[0mlabel\u001b[0m\u001b[1;33m)\u001b[0m\u001b[1;33m)\u001b[0m\u001b[1;33m\u001b[0m\u001b[0m\n",
      "\u001b[1;31mNameError\u001b[0m: name 'yy' is not defined"
     ]
    }
   ],
   "source": [
    "sess = tf.Session()\n",
    "init = tf.global_variables_initializer()\n",
    "sess.run(init)\n",
    "i = 0\n",
    "for input_x,input_y in zip(train_X,train_y):\n",
    "#     i+=1\n",
    "#     train_accuracy = acuracy.eval(feed_dict{X:input_x.reshape((1,30)),y_:input_y.reshape((1,1))})\n",
    "#     train_step.run(feed_dict={x:batch[0],y_:batch[1],keep_prob:0.5})\n",
    "#     print('step %d,training accuracy %g' % (i,float(train_accuracy)))\n",
    "    sess.run(train_step,feed_dict={X:input_x.reshape((1,30)),y_:input_y.reshape((1,1))})\n",
    "\n",
    "\n",
    "for value,label in zip(test_X,test_y):\n",
    "    a = np.array(value).reshape(1,30)\n",
    "    yy = tf.nn.softmax(yy)\n",
    "    result = sess.run(yy,feed_dict={X:a})\n",
    "    print(\"预测结果为：%s  真实结果为%s\"%(result,label))   "
   ]
  },
  {
   "cell_type": "code",
   "execution_count": null,
   "metadata": {},
   "outputs": [],
   "source": []
  }
 ],
 "metadata": {
  "kernelspec": {
   "display_name": "Python 3",
   "language": "python",
   "name": "python3"
  },
  "language_info": {
   "codemirror_mode": {
    "name": "ipython",
    "version": 3
   },
   "file_extension": ".py",
   "mimetype": "text/x-python",
   "name": "python",
   "nbconvert_exporter": "python",
   "pygments_lexer": "ipython3",
   "version": "3.6.5"
  }
 },
 "nbformat": 4,
 "nbformat_minor": 2
}
