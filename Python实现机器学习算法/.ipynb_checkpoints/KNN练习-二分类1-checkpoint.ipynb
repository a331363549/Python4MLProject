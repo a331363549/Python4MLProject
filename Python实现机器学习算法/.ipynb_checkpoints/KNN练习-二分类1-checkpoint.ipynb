{
 "cells": [
  {
   "cell_type": "code",
   "execution_count": 104,
   "metadata": {},
   "outputs": [],
   "source": [
    "import numpy as np\n",
    "import pandas as pd\n",
    "import tensorflow as tf"
   ]
  },
  {
   "cell_type": "code",
   "execution_count": 105,
   "metadata": {
    "collapsed": true,
    "scrolled": true
   },
   "outputs": [],
   "source": [
    "data = pd.read_csv(r'cancer.csv')\n",
    "data.drop_duplicates(inplace=True)"
   ]
  },
  {
   "cell_type": "code",
   "execution_count": 106,
   "metadata": {
    "collapsed": true
   },
   "outputs": [],
   "source": [
    "# 良性恶性肿瘤类别获取区分\n",
    "t0 = data[data[\"type\"]==0]\n",
    "t1 = data[data[\"type\"]==1]\n",
    "\n",
    "# # 类别数据进行随机打乱  random_state可使随机重现\n",
    "# t0 = t0.sample(len(t0),random_state=0)\n",
    "# t1 = t1.sample(len(t1),random_state=0)\n",
    "\n",
    "# 测试集与训练集长度\n",
    "train_len0 = int(len(t0) * 0.8 )\n",
    "test_len0 = len(t0) - train_len0\n",
    "train_len1 = int(len(t1) * 0.8 )\n",
    "test_len1 = len(t1) - train_len1\n",
    "\n",
    "#构造训练集与测试集\n",
    "train_X = pd.concat([t0.iloc[:train_len0,:-1],t1.iloc[:train_len1,:-1]],axis=0)\n",
    "train_y = pd.concat([t0.iloc[:train_len0,-1],t1.iloc[:train_len1,-1]],axis=0)\n",
    "test_X = pd.concat([t0.iloc[test_len0:,:-1],t1.iloc[:test_len1,:-1]],axis=0)\n",
    "test_y = pd.concat([t0.iloc[test_len0:,-1],t1.iloc[:test_len1,-1]],axis=0)\n",
    "\n",
    "# 随机打乱训练集与测试集的顺序\n",
    "train_X = train_X.sample(len(train_X),random_state=0)\n",
    "train_y = train_y.sample(len(train_y),random_state=0)\n",
    "test_X = test_X.sample(len(test_X),random_state=0)\n",
    "test_y = test_y.sample(len(test_y),random_state=0)\n",
    "train_X = np.asarray(train_X)\n",
    "train_y = np.asarray(train_y)\n",
    "test_X = np.asarray(test_X)\n",
    "test_y = np.asarray(test_y)"
   ]
  },
  {
   "cell_type": "code",
   "execution_count": null,
   "metadata": {},
   "outputs": [],
   "source": []
  },
  {
   "cell_type": "code",
   "execution_count": null,
   "metadata": {
    "scrolled": true
   },
   "outputs": [],
   "source": []
  },
  {
   "cell_type": "code",
   "execution_count": 107,
   "metadata": {
    "collapsed": true
   },
   "outputs": [],
   "source": [
    "from sklearn.model_selection import train_test_split\n",
    "import tensorflow as tf\n",
    "from sklearn.datasets import load_breast_cancer\n",
    "import numpy as np\n",
    "from sklearn.preprocessing import MinMaxScaler "
   ]
  },
  {
   "cell_type": "code",
   "execution_count": 108,
   "metadata": {},
   "outputs": [],
   "source": [
    "#对数据集进行处理\n",
    "feature=train_X\n",
    "label=train_y.reshape([-1,1]) \n",
    "#将训练数据集中连续形的值标准化到(0,1)之间\n",
    "minmxx=MinMaxScaler([0,1]) \n",
    "minmxx.fit(feature) \n",
    "feature=minmxx.transform(feature)\n",
    "#将测试数据集中连续值标准化到(0,1)之间\n",
    "minmxx.fit(test_X)\n",
    "test_X=minmxx.transform(test_X)\n"
   ]
  },
  {
   "cell_type": "code",
   "execution_count": 109,
   "metadata": {},
   "outputs": [
    {
     "name": "stdout",
     "output_type": "stream",
     "text": [
      "[0.66386193]\n",
      "[0.5719534]\n",
      "[0.53431195]\n",
      "[0.5194498]\n",
      "[0.51132]\n",
      "[0.5059704]\n",
      "[0.5018721]\n",
      "[0.49851868]\n",
      "[0.49570784]\n",
      "[0.49331263]\n",
      "[0.49124977]\n",
      "[0.48945934]\n",
      "[0.4878958]\n",
      "[0.48652568]\n",
      "[0.4853238]\n",
      "[0.48426744]\n",
      "[0.4833343]\n",
      "[0.48250365]\n",
      "[0.4817576]\n",
      "[0.4810827]\n",
      "             precision    recall  f1-score   support\n",
      "\n",
      "          0       1.00      0.95      0.97       169\n",
      "          1       0.89      1.00      0.94        72\n",
      "\n",
      "avg / total       0.97      0.96      0.96       241\n",
      "\n"
     ]
    }
   ],
   "source": [
    "#权重初始化\n",
    "w=tf.Variable(tf.random_normal([30,1])) \n",
    "b=tf.Variable(tf.zeros([1,1])) \n",
    "x = tf.placeholder(tf.float32,[None,30])\n",
    "y = tf.placeholder(tf.float32,[None,1])\n",
    "ye=tf.matmul(x,w)+b \n",
    "pre=tf.sigmoid(ye) \n",
    "#设置损失函数跟优化方法\n",
    "loss=tf.reduce_mean(tf.nn.sigmoid_cross_entropy_with_logits(labels=y,logits=pre)) \n",
    "#可以修改学习率，这里设置的是0.01\n",
    "train=tf.train.AdamOptimizer(0.1).minimize(loss) \n",
    "init=tf.global_variables_initializer() \n",
    "sess=tf.Session() \n",
    "sess.run(init) \n",
    "  #设置叠迭次数\n",
    "for step in range(200):     \n",
    "    sess.run(train,feed_dict={x:feature,y:label})     \n",
    "    if step%10==0:         \n",
    "        print(sess.run([loss],feed_dict={x:feature,y:label}))\n",
    "#用模型对测试数据进行测试\n",
    "pred=sess.run(pre,feed_dict={x:test_X}) \n",
    "\n",
    "from sklearn import metrics \n",
    "#输出测试相关的结果\n",
    "print(metrics.classification_report(test_y.reshape([-1,1]),pred.round()))"
   ]
  },
  {
   "cell_type": "code",
   "execution_count": null,
   "metadata": {
    "collapsed": true
   },
   "outputs": [],
   "source": []
  }
 ],
 "metadata": {
  "kernelspec": {
   "display_name": "Python 3",
   "language": "python",
   "name": "python3"
  },
  "language_info": {
   "codemirror_mode": {
    "name": "ipython",
    "version": 3
   },
   "file_extension": ".py",
   "mimetype": "text/x-python",
   "name": "python",
   "nbconvert_exporter": "python",
   "pygments_lexer": "ipython3",
   "version": "3.6.5"
  }
 },
 "nbformat": 4,
 "nbformat_minor": 2
}
